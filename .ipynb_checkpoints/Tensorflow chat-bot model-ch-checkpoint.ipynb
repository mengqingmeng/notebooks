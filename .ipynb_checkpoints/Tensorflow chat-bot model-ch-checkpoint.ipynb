{
 "cells": [
  {
   "cell_type": "code",
   "execution_count": 2,
   "metadata": {
    "collapsed": true,
    "scrolled": true
   },
   "outputs": [],
   "source": [
    "# things we need for NLP\n",
    "import nltk\n",
    "#nltk.download('punkt')"
   ]
  },
  {
   "cell_type": "code",
   "execution_count": 3,
   "metadata": {
    "collapsed": true
   },
   "outputs": [],
   "source": [
    "from nltk.stem.lancaster import LancasterStemmer\n",
    "stemmer = LancasterStemmer()"
   ]
  },
  {
   "cell_type": "code",
   "execution_count": 4,
   "metadata": {
    "collapsed": true
   },
   "outputs": [],
   "source": [
    "# things we need for Tensorflow\n",
    "import numpy as np"
   ]
  },
  {
   "cell_type": "code",
   "execution_count": 5,
   "metadata": {
    "collapsed": true
   },
   "outputs": [],
   "source": [
    "import tflearn\n",
    "import tensorflow as tf\n",
    "import random"
   ]
  },
  {
   "cell_type": "code",
   "execution_count": 6,
   "metadata": {
    "collapsed": true
   },
   "outputs": [],
   "source": [
    "# import our chat-bot intents file\n",
    "import json\n",
    "with open('intents_ch.json') as json_data:\n",
    "    intents = json.load(json_data)"
   ]
  },
  {
   "cell_type": "code",
   "execution_count": 7,
   "metadata": {},
   "outputs": [
    {
     "name": "stdout",
     "output_type": "stream",
     "text": [
      "['你好']\n",
      "['嗨']\n",
      "['机器人']\n",
      "['再见']\n",
      "['再见']\n",
      "['待会见']\n",
      "['拜拜']\n",
      "['谢谢']\n",
      "['谢谢你']\n",
      "['太谢谢你了']\n",
      "['你们每天几点开门啊']\n",
      "['你们营业时间是是几点']\n",
      "['啥时候开门']\n",
      "['你们有什么助力车']\n",
      "['有什么样的助力车']\n",
      "['你们出租什么']\n",
      "['你们刷信用卡吗']\n",
      "['你们收万事达卡吗']\n",
      "['只能现金支付？']\n",
      "['什么时候开门']\n",
      "['你们几点开门']\n",
      "['你们营业时间是什么时候']\n",
      "['我们可以租个助力车吗']\n",
      "['我想租个助力车']\n",
      "['今天']\n",
      "documents: [(['你好'], '问候'), (['嗨'], '问候'), (['机器人'], '问候'), (['再见'], '问候'), (['再见'], '再见'), (['待会见'], '再见'), (['拜拜'], '再见'), (['谢谢'], '谢谢'), (['谢谢你'], '谢谢'), (['太谢谢你了'], '谢谢'), (['你们每天几点开门啊'], '时间'), (['你们营业时间是是几点'], '时间'), (['啥时候开门'], '时间'), (['你们有什么助力车'], '助力车'), (['有什么样的助力车'], '助力车'), (['你们出租什么'], '助力车'), (['你们刷信用卡吗'], '付款'), (['你们收万事达卡吗'], '付款'), (['只能现金支付？'], '付款'), (['什么时候开门'], '营业时间'), (['你们几点开门'], '营业时间'), (['你们营业时间是什么时候'], '营业时间'), (['我们可以租个助力车吗'], '出租'), (['我想租个助力车'], '出租'), (['今天'], '今天')]\n",
      "------\n",
      "25 documents\n",
      "9 classes ['今天', '付款', '再见', '出租', '助力车', '时间', '营业时间', '谢谢', '问候']\n",
      "24 unique stemmed words ['什么时候开门', '今天', '你们几点开门', '你们出租什么', '你们刷信用卡吗', '你们收万事达卡吗', '你们有什么助力车', '你们每天几点开门啊', '你们营业时间是什么时候', '你们营业时间是是几点', '你好', '再见', '只能现金支付？', '啥时候开门', '嗨', '太谢谢你了', '待会见', '我们可以租个助力车吗', '我想租个助力车', '拜拜', '有什么样的助力车', '机器人', '谢谢', '谢谢你']\n"
     ]
    }
   ],
   "source": [
    "import jieba\n",
    "words = []\n",
    "classes = []\n",
    "documents = []\n",
    "ignore_words = ['?']\n",
    "# loop through each sentence in our intents patterns\n",
    "for intent in intents['intents']:\n",
    "    for pattern in intent['patterns']:\n",
    "        # tokenize each word in the sentence\n",
    "        #w = nltk.word_tokenize(pattern)\n",
    "        w = jieba.cut(pattern, cut_all=True)\n",
    "        print(w)\n",
    "        # add to our words list\n",
    "        words.extend(w)\n",
    "        # add to documents in our corpus\n",
    "        documents.append((w, intent['tag']))\n",
    "        # add to our classes list\n",
    "        if intent['tag'] not in classes:\n",
    "            classes.append(intent['tag'])\n",
    "\n",
    "# stem and lower each word and remove duplicates\n",
    "words = [stemmer.stem(w.lower()) for w in words if w not in ignore_words]\n",
    "words = sorted(list(set(words)))\n",
    "\n",
    "# remove duplicates\n",
    "classes = sorted(list(set(classes)))\n",
    "print('documents:',documents)\n",
    "print('------')\n",
    "print (len(documents), \"documents\")\n",
    "print (len(classes), \"classes\", classes)\n",
    "print (len(words), \"unique stemmed words\", words)"
   ]
  },
  {
   "cell_type": "code",
   "execution_count": 110,
   "metadata": {},
   "outputs": [
    {
     "name": "stdout",
     "output_type": "stream",
     "text": [
      "['hello']\n",
      "['how', 'ar', 'you']\n",
      "['is', 'anyon', 'ther', '?']\n",
      "['hello']\n",
      "['good', 'day']\n",
      "['bye']\n",
      "['see', 'you', 'lat']\n",
      "['goodby']\n",
      "['thank']\n",
      "['thank', 'you']\n",
      "['that', \"'s\", 'help']\n",
      "['what', 'hour', 'ar', 'you', 'op', '?']\n",
      "['what', 'ar', 'yo', 'hour', '?']\n",
      "['when', 'ar', 'you', 'op', '?']\n",
      "['which', 'mop', 'do', 'you', 'hav', '?']\n",
      "['what', 'kind', 'of', 'mop', 'ar', 'ther', '?']\n",
      "['what', 'do', 'you', 'rent', '?']\n",
      "['do', 'you', 'tak', 'credit', 'card', '?']\n",
      "['do', 'you', 'acceiv', 'mastercard', '?']\n",
      "['ar', 'you', 'cash', 'on', '?']\n",
      "['ar', 'you', 'op', 'today', '?']\n",
      "['when', 'do', 'you', 'op', 'today', '?']\n",
      "['what', 'ar', 'yo', 'hour', 'today', '?']\n",
      "['can', 'we', 'rent', 'a', 'mop', '?']\n",
      "['i', \"'d\", 'lik', 'to', 'rent', 'a', 'mop']\n",
      "['how', 'doe', 'thi', 'work', '?']\n",
      "['today']\n"
     ]
    }
   ],
   "source": [
    "# create our training data\n",
    "training = []\n",
    "output = []\n",
    "# create an empty array for our output\n",
    "output_empty = [0] * len(classes)\n",
    "\n",
    "# training set, bag of words for each sentence\n",
    "for doc in documents:\n",
    "    # initialize our bag of words\n",
    "    bag = []\n",
    "    # list of tokenized words for the pattern\n",
    "    pattern_words = doc[0]\n",
    "    # stem each word\n",
    "    pattern_words = [stemmer.stem(word.lower()) for word in pattern_words]\n",
    "    print(pattern_words)\n",
    "    # create our bag of words array\n",
    "    for w in words:\n",
    "        bag.append(1) if w in pattern_words else bag.append(0)\n",
    "\n",
    "    # output is a '0' for each tag and '1' for current tag\n",
    "    output_row = list(output_empty)\n",
    "    output_row[classes.index(doc[1])] = 1\n",
    "\n",
    "    training.append([bag, output_row])\n",
    "\n",
    "# shuffle our features and turn into np.array\n",
    "random.shuffle(training)\n",
    "training = np.array(training)\n",
    "\n",
    "# create train and test lists\n",
    "train_x = list(training[:,0])\n",
    "train_y = list(training[:,1])\n"
   ]
  },
  {
   "cell_type": "code",
   "execution_count": 111,
   "metadata": {
    "scrolled": true
   },
   "outputs": [
    {
     "name": "stdout",
     "output_type": "stream",
     "text": [
      "Training Step: 7999  | total loss: \u001b[1m\u001b[32m0.17788\u001b[0m\u001b[0m | time: 0.021s\n",
      "| Adam | epoch: 2000 | loss: 0.17788 - acc: 0.9844 -- iter: 24/27\n",
      "Training Step: 8000  | total loss: \u001b[1m\u001b[32m0.16216\u001b[0m\u001b[0m | time: 0.031s\n",
      "| Adam | epoch: 2000 | loss: 0.16216 - acc: 0.9859 -- iter: 27/27\n",
      "--\n",
      "INFO:tensorflow:/home/mqm/Workspace/dl/notebooks/model.tflearn is not in all_model_checkpoint_paths. Manually adding it.\n"
     ]
    }
   ],
   "source": [
    "# reset underlying graph data\n",
    "tf.reset_default_graph()\n",
    "# Build neural network\n",
    "net = tflearn.input_data(shape=[None, len(train_x[0])])\n",
    "net = tflearn.fully_connected(net, 8)\n",
    "net = tflearn.fully_connected(net, 8)\n",
    "net = tflearn.fully_connected(net, len(train_y[0]), activation='softmax')\n",
    "net = tflearn.regression(net)\n",
    "\n",
    "# Define model and setup tensorboard\n",
    "model = tflearn.DNN(net, tensorboard_dir='tflearn_logs')\n",
    "# Start training (apply gradient descent algorithm)\n",
    "model.fit(train_x, train_y, n_epoch=2000, batch_size=8, show_metric=True)\n",
    "model.save('model.tflearn')"
   ]
  },
  {
   "cell_type": "code",
   "execution_count": 112,
   "metadata": {
    "collapsed": true
   },
   "outputs": [],
   "source": [
    "def clean_up_sentence(sentence):\n",
    "    # tokenize the pattern\n",
    "    sentence_words = nltk.word_tokenize(sentence)\n",
    "    # stem each word\n",
    "    sentence_words = [stemmer.stem(word.lower()) for word in sentence_words]\n",
    "    return sentence_words\n",
    "\n",
    "# return bag of words array: 0 or 1 for each word in the bag that exists in the sentence\n",
    "def bow(sentence, words, show_details=False):\n",
    "    # tokenize the pattern\n",
    "    sentence_words = clean_up_sentence(sentence)\n",
    "    # bag of words\n",
    "    bag = [0]*len(words)  \n",
    "    for s in sentence_words:\n",
    "        for i,w in enumerate(words):\n",
    "            if w == s: \n",
    "                bag[i] = 1\n",
    "                if show_details:\n",
    "                    print (\"found in bag: %s\" % w)\n",
    "\n",
    "    return(np.array(bag))"
   ]
  },
  {
   "cell_type": "code",
   "execution_count": 113,
   "metadata": {},
   "outputs": [
    {
     "name": "stdout",
     "output_type": "stream",
     "text": [
      "found in bag: thank\n",
      "found in bag: yo\n",
      "found in bag: help\n",
      "[0 0 0 0 0 0 0 0 0 0 0 0 0 0 0 0 0 0 1 0 0 0 0 0 0 0 0 0 0 0 0 0 0 0 1 0 0\n",
      " 0 0 0 0 0 0 0 0 1 0]\n",
      "['goodbye', 'greeting', 'hours', 'mopeds', 'opentoday', 'payments', 'rental', 'thanks', 'today']\n"
     ]
    }
   ],
   "source": [
    "p = bow(\"Thanks for your help\", words,True)\n",
    "print (p)\n",
    "print (classes)"
   ]
  },
  {
   "cell_type": "code",
   "execution_count": 114,
   "metadata": {},
   "outputs": [
    {
     "name": "stdout",
     "output_type": "stream",
     "text": [
      "[[  2.81645789e-05   2.38508019e-05   7.27311563e-05   1.18789520e-08\n",
      "    7.82221928e-03   9.18577499e-08   4.91711694e-09   9.92009044e-01\n",
      "    4.39305513e-05]]\n"
     ]
    }
   ],
   "source": [
    "print(model.predict([p]))"
   ]
  },
  {
   "cell_type": "code",
   "execution_count": 115,
   "metadata": {
    "collapsed": true
   },
   "outputs": [],
   "source": [
    "# save all of our data structures\n",
    "import pickle\n",
    "pickle.dump( {'words':words, 'classes':classes, 'train_x':train_x, 'train_y':train_y}, open( \"training_data\", \"wb\" ) )"
   ]
  },
  {
   "cell_type": "code",
   "execution_count": null,
   "metadata": {
    "collapsed": true
   },
   "outputs": [],
   "source": []
  }
 ],
 "metadata": {
  "kernelspec": {
   "display_name": "Python [default]",
   "language": "python",
   "name": "python3"
  },
  "language_info": {
   "codemirror_mode": {
    "name": "ipython",
    "version": 3
   },
   "file_extension": ".py",
   "mimetype": "text/x-python",
   "name": "python",
   "nbconvert_exporter": "python",
   "pygments_lexer": "ipython3",
   "version": "3.5.3"
  }
 },
 "nbformat": 4,
 "nbformat_minor": 1
}
