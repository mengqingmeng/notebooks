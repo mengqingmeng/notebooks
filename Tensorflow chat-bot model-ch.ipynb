{
 "cells": [
  {
   "cell_type": "code",
   "execution_count": 154,
   "metadata": {
    "collapsed": true,
    "scrolled": true
   },
   "outputs": [],
   "source": [
    "# things we need for NLP\n",
    "import nltk\n",
    "#nltk.download('punkt')"
   ]
  },
  {
   "cell_type": "code",
   "execution_count": 155,
   "metadata": {
    "collapsed": true
   },
   "outputs": [],
   "source": [
    "from nltk.stem.lancaster import LancasterStemmer\n",
    "stemmer = LancasterStemmer()"
   ]
  },
  {
   "cell_type": "code",
   "execution_count": 156,
   "metadata": {
    "collapsed": true
   },
   "outputs": [],
   "source": [
    "# things we need for Tensorflow\n",
    "import numpy as np"
   ]
  },
  {
   "cell_type": "code",
   "execution_count": 157,
   "metadata": {
    "collapsed": true
   },
   "outputs": [],
   "source": [
    "import tflearn\n",
    "import tensorflow as tf\n",
    "import random"
   ]
  },
  {
   "cell_type": "code",
   "execution_count": 158,
   "metadata": {
    "collapsed": true
   },
   "outputs": [],
   "source": [
    "# import our chat-bot intents file\n",
    "import json\n",
    "with open('intents_ch.json') as json_data:\n",
    "    intents = json.load(json_data)"
   ]
  },
  {
   "cell_type": "code",
   "execution_count": 159,
   "metadata": {},
   "outputs": [
    {
     "name": "stdout",
     "output_type": "stream",
     "text": [
      "documents: [(['你好'], '问候'), (['嗨'], '问候'), (['机器', '机器人'], '问候'), (['你好'], '问候'), (['再见'], '再见'), (['待', '会见'], '再见'), (['拜拜'], '再见'), (['谢谢'], '谢谢'), (['谢谢', '你'], '谢谢'), (['太', '谢谢', '你', '了'], '谢谢'), (['你们', '每天', '几点', '开门', '啊'], '时间'), (['你们', '营业', '时间', '营业时间', '是', '是', '几点'], '时间'), (['时候', '啥时候', '开门'], '时间'), (['你们', '有', '什么', '助力', '助力车'], '助力车'), (['有', '什么', '什么样', '的', '助力', '助力车'], '助力车'), (['你们', '出租', '什么'], '助力车'), (['你们', '刷', '信用', '信用卡', '吗'], '付款'), (['刷卡', '吗'], '付款'), (['你们', '收', '万事', '达卡', '万事达', '万事达卡', '吗'], '付款'), (['只能', '现金', '支付', '现金支付'], '付款'), (['什么', '时候', '开门'], '营业时间'), (['你们', '几点', '开门'], '营业时间'), (['你们', '营业', '时间', '营业时间', '是', '什么', '时候'], '营业时间'), (['我们', '可以', '租个', '助力', '助力车', '吗'], '出租'), (['我想', '租个', '助力', '助力车'], '出租'), (['今天'], '今天租'), (['明天'], '明天租'), (['你们', '哪', '天', '方便'], '你们哪天方便'), (['你们', '哪', '天', '可以'], '你们哪天方便')]\n",
      "------\n",
      "29 documents\n",
      "11 classes ['今天租', '付款', '你们哪天方便', '再见', '出租', '助力车', '时间', '明天租', '营业时间', '谢谢', '问候']\n",
      "53 unique stemmed words ['万事', '万事达', '万事达卡', '了', '什么', '什么样', '今天', '会见', '你', '你们', '你好', '信用', '信用卡', '再见', '几点', '出租', '刷', '刷卡', '助力', '助力车', '只能', '可以', '吗', '哪', '啊', '啥时候', '嗨', '天', '太', '开门', '待', '我们', '我想', '拜拜', '支付', '收', '方便', '时候', '时间', '明天', '是', '有', '机器', '机器人', '每天', '现金', '现金支付', '的', '租个', '营业', '营业时间', '谢谢', '达卡']\n"
     ]
    }
   ],
   "source": [
    "import jieba\n",
    "words = []\n",
    "classes = []\n",
    "documents = []\n",
    "ignore_words = ['?']\n",
    "# loop through each sentence in our intents patterns\n",
    "for intent in intents['intents']:\n",
    "    for pattern in intent['patterns']:\n",
    "        # tokenize each word in the sentence\n",
    "        #w = nltk.word_tokenize(pattern)\n",
    "        w = jieba.cut_for_search(pattern)\n",
    "        w = (\"/\".join(w)).split(\"/\")\n",
    "        # add to our words list\n",
    "        words.extend(w)\n",
    "        # add to documents in our corpus\n",
    "        documents.append((w, intent['tag']))\n",
    "        #documents.append((intent['tag']))\n",
    "        # add to our classes list\n",
    "        if intent['tag'] not in classes:\n",
    "            classes.append(intent['tag'])\n",
    "\n",
    "# stem and lower each word and remove duplicates\n",
    "words = [stemmer.stem(w.lower()) for w in words if w not in ignore_words]\n",
    "words = sorted(list(set(words)))\n",
    "\n",
    "# remove duplicates\n",
    "classes = sorted(list(set(classes)))\n",
    "print('documents:',documents)\n",
    "print('------')\n",
    "print (len(documents), \"documents\")\n",
    "print (len(classes), \"classes\", classes)\n",
    "print (len(words), \"unique stemmed words\", words)"
   ]
  },
  {
   "cell_type": "code",
   "execution_count": 160,
   "metadata": {},
   "outputs": [
    {
     "name": "stdout",
     "output_type": "stream",
     "text": [
      "['你好']\n",
      "['嗨']\n",
      "['机器', '机器人']\n",
      "['你好']\n",
      "['再见']\n",
      "['待', '会见']\n",
      "['拜拜']\n",
      "['谢谢']\n",
      "['谢谢', '你']\n",
      "['太', '谢谢', '你', '了']\n",
      "['你们', '每天', '几点', '开门', '啊']\n",
      "['你们', '营业', '时间', '营业时间', '是', '是', '几点']\n",
      "['时候', '啥时候', '开门']\n",
      "['你们', '有', '什么', '助力', '助力车']\n",
      "['有', '什么', '什么样', '的', '助力', '助力车']\n",
      "['你们', '出租', '什么']\n",
      "['你们', '刷', '信用', '信用卡', '吗']\n",
      "['刷卡', '吗']\n",
      "['你们', '收', '万事', '达卡', '万事达', '万事达卡', '吗']\n",
      "['只能', '现金', '支付', '现金支付']\n",
      "['什么', '时候', '开门']\n",
      "['你们', '几点', '开门']\n",
      "['你们', '营业', '时间', '营业时间', '是', '什么', '时候']\n",
      "['我们', '可以', '租个', '助力', '助力车', '吗']\n",
      "['我想', '租个', '助力', '助力车']\n",
      "['今天']\n",
      "['明天']\n",
      "['你们', '哪', '天', '方便']\n",
      "['你们', '哪', '天', '可以']\n"
     ]
    }
   ],
   "source": [
    "# create our training data\n",
    "training = []\n",
    "output = []\n",
    "# create an empty array for our output\n",
    "output_empty = [0] * len(classes)\n",
    "\n",
    "# training set, bag of words for each sentence\n",
    "for doc in documents:\n",
    "    # initialize our bag of words\n",
    "    bag = []\n",
    "    # list of tokenized words for the pattern\n",
    "    pattern_words = doc[0]\n",
    "    # stem each word\n",
    "    #pattern_words = [stemmer.stem(word.lower()) for word in pattern_words]\n",
    "    print(pattern_words)\n",
    "    # create our bag of words array\n",
    "    for w in words:\n",
    "        bag.append(1) if w in pattern_words else bag.append(0)\n",
    "\n",
    "    # output is a '0' for each tag and '1' for current tag\n",
    "    output_row = list(output_empty)\n",
    "    output_row[classes.index(doc[1])] = 1\n",
    "\n",
    "    training.append([bag, output_row])\n",
    "\n",
    "# shuffle our features and turn into np.array\n",
    "random.shuffle(training)\n",
    "training = np.array(training)\n",
    "\n",
    "# create train and test lists\n",
    "train_x = list(training[:,0])\n",
    "train_y = list(training[:,1])\n"
   ]
  },
  {
   "cell_type": "code",
   "execution_count": 161,
   "metadata": {
    "scrolled": true
   },
   "outputs": [
    {
     "name": "stdout",
     "output_type": "stream",
     "text": [
      "Training Step: 7999  | total loss: \u001b[1m\u001b[32m0.25392\u001b[0m\u001b[0m | time: 0.028s\n",
      "| Adam | epoch: 2000 | loss: 0.25392 - acc: 0.9820 -- iter: 24/29\n",
      "Training Step: 8000  | total loss: \u001b[1m\u001b[32m0.21116\u001b[0m\u001b[0m | time: 0.037s\n",
      "| Adam | epoch: 2000 | loss: 0.21116 - acc: 0.9838 -- iter: 29/29\n",
      "--\n",
      "INFO:tensorflow:/home/mqm/Workspace/dl/notebooks/model.tflearn is not in all_model_checkpoint_paths. Manually adding it.\n"
     ]
    }
   ],
   "source": [
    "# reset underlying graph data\n",
    "tf.reset_default_graph()\n",
    "# Build neural network\n",
    "net = tflearn.input_data(shape=[None, len(train_x[0])])\n",
    "net = tflearn.fully_connected(net, 8)\n",
    "net = tflearn.fully_connected(net, 8)\n",
    "net = tflearn.fully_connected(net, len(train_y[0]), activation='softmax')\n",
    "net = tflearn.regression(net)\n",
    "\n",
    "# Define model and setup tensorboard\n",
    "model = tflearn.DNN(net, tensorboard_dir='tflearn_logs')\n",
    "# Start training (apply gradient descent algorithm)\n",
    "model.fit(train_x, train_y, n_epoch=2000, batch_size=8, show_metric=True)\n",
    "model.save('model.tflearn')"
   ]
  },
  {
   "cell_type": "code",
   "execution_count": 166,
   "metadata": {
    "collapsed": true
   },
   "outputs": [],
   "source": [
    "def clean_up_sentence(sentence):\n",
    "    # tokenize the pattern\n",
    "    sentence_words = nltk.word_tokenize(sentence)\n",
    "    # stem each word\n",
    "    sentence_words = [stemmer.stem(word.lower()) for word in sentence_words]\n",
    "    return sentence_words\n",
    "\n",
    "# return bag of words array: 0 or 1 for each word in the bag that exists in the sentence\n",
    "def bow(sentence, words, show_details=False):\n",
    "    # tokenize the pattern\n",
    "    sentence_words = clean_up_sentence(sentence)\n",
    "    # bag of words\n",
    "    bag = [0]*len(words)  \n",
    "    for s in sentence_words:\n",
    "        for i,w in enumerate(words):\n",
    "            if w == s: \n",
    "                bag[i] = 1\n",
    "                if show_details:\n",
    "                    print (\"found in bag: %s\" % w)\n",
    "\n",
    "    return(np.array(bag))"
   ]
  },
  {
   "cell_type": "code",
   "execution_count": 167,
   "metadata": {},
   "outputs": [
    {
     "name": "stdout",
     "output_type": "stream",
     "text": [
      "found in bag: 刷卡\n",
      "[0 0 0 0 0 0 0 0 0 0 0 0 0 0 0 0 0 1 0 0 0 0 0 0 0 0 0 0 0 0 0 0 0 0 0 0 0\n",
      " 0 0 0 0 0 0 0 0 0 0 0 0 0 0 0 0]\n",
      "['今天租', '付款', '你们哪天方便', '再见', '出租', '助力车', '时间', '明天租', '营业时间', '谢谢', '问候']\n"
     ]
    }
   ],
   "source": [
    "p = bow(\"刷卡\", words,True)\n",
    "print (p)\n",
    "print (classes)"
   ]
  },
  {
   "cell_type": "code",
   "execution_count": 168,
   "metadata": {},
   "outputs": [
    {
     "name": "stdout",
     "output_type": "stream",
     "text": [
      "[[  1.97620247e-03   6.55262470e-01   6.65306152e-06   9.32808146e-02\n",
      "    2.09343396e-02   1.56371112e-04   2.03908961e-02   1.51915636e-04\n",
      "    1.45199872e-03   4.14905488e-04   2.05973402e-01]]\n"
     ]
    }
   ],
   "source": [
    "print(model.predict([p]))"
   ]
  },
  {
   "cell_type": "code",
   "execution_count": 169,
   "metadata": {
    "collapsed": true
   },
   "outputs": [],
   "source": [
    "# save all of our data structures\n",
    "import pickle\n",
    "pickle.dump( {'words':words, 'classes':classes, 'train_x':train_x, 'train_y':train_y}, open( \"training_data\", \"wb\" ) )"
   ]
  },
  {
   "cell_type": "code",
   "execution_count": null,
   "metadata": {
    "collapsed": true
   },
   "outputs": [],
   "source": []
  },
  {
   "cell_type": "code",
   "execution_count": null,
   "metadata": {
    "collapsed": true
   },
   "outputs": [],
   "source": []
  }
 ],
 "metadata": {
  "kernelspec": {
   "display_name": "Python [default]",
   "language": "python",
   "name": "python3"
  },
  "language_info": {
   "codemirror_mode": {
    "name": "ipython",
    "version": 3
   },
   "file_extension": ".py",
   "mimetype": "text/x-python",
   "name": "python",
   "nbconvert_exporter": "python",
   "pygments_lexer": "ipython3",
   "version": "3.5.3"
  }
 },
 "nbformat": 4,
 "nbformat_minor": 1
}
